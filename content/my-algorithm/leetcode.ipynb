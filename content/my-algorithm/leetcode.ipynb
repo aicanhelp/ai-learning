{
 "cells": [
  {
   "cell_type": "code",
   "execution_count": 78,
   "metadata": {},
   "outputs": [],
   "source": [
    "class Solution {\n",
    "    static  double inOneSide(int[] nums1, int[] nums2, int totalCount, int midIndex){\n",
    "        if(nums1.length==nums2.length) return (double)(nums1[nums1.length-1]+nums2[0])/2;\n",
    "        if(nums1.length>nums2.length){\n",
    "            if (totalCount % 2==0) return (double)(nums1[midIndex]+nums1[midIndex+1])/2;\n",
    "            return nums1[midIndex];\n",
    "        }\n",
    "        if (totalCount % 2==0) return (double)(nums2[midIndex-nums1.length]+nums2[midIndex-nums1.length+1])/2;\n",
    "        return nums2[midIndex-nums1.length];\n",
    "    }\n",
    "    \n",
    "    static  double oneElement(int[] nums1, int[] nums2){\n",
    "        int num2Mid=nums2.length/2;\n",
    "        \n",
    "        if((nums2.length+1)%2==0){\n",
    "            if(nums1[0]<=nums2[num2Mid-1])\n",
    "        }\n",
    "    }\n",
    "    \n",
    "    static double returnMidValue(int[] nums1, int[] nums2, int num1Mid,int num2Mid){\n",
    "        System.out.println(num1Mid+\":\"+num2Mid);\n",
    "        if ((nums1.length+nums2.length) % 2 ==0){\n",
    "            if((nums1.length % 2 ==0) && (nums2.length % 2 ==0)){\n",
    "                if(nums1[num1Mid]>=nums2[num2Mid]){\n",
    "                    if(nums1[num1Mid+1]<=nums2[num2Mid+1]){\n",
    "                        return (double)(nums1[num1Mid]+nums1[num1Mid+1])/2;\n",
    "                    }\n",
    "                    return (double)(nums1[num1Mid]+nums2[num2Mid+1])/2;\n",
    "                }\n",
    "                \n",
    "                if(nums2[num2Mid+1]<=nums1[num1Mid+1]){\n",
    "                    return (double)(nums2[num2Mid]+nums2[num2Mid+1])/2;\n",
    "                }\n",
    "                return (double)(nums2[num1Mid]+nums1[num1Mid+1])/2;\n",
    "            }\n",
    "            \n",
    "            return (double)(nums1[num1Mid]+nums2[num2Mid])/2;\n",
    "        }\n",
    "        \n",
    "        return Math.max(nums1[num1Mid],nums2[num2Mid]);\n",
    "    }\n",
    "\n",
    "    static  double midValue(int[] nums1, int[] nums2, int num1Mid,int num2Mid){\n",
    "        \n",
    "        while(num2Mid>0 && num1Mid<nums2.length-1 && nums1[num1Mid]<nums2[num2Mid]){\n",
    "            num2Mid--;\n",
    "            num1Mid++;\n",
    "        }\n",
    "        \n",
    "        return returnMidValue(nums1,nums2,num1Mid,num2Mid); \n",
    "    }\n",
    "    \n",
    "    \n",
    "\n",
    "    public double findMedianSortedArrays(int[] nums1, int[] nums2) {\n",
    "        if(nums1.length==0 && nums2.length==0) return 0;\n",
    "        int totalCount=nums1.length+nums2.length;\n",
    "        int midIndex=totalCount/2;\n",
    "        if(totalCount %2 ==0) midIndex=midIndex-1;\n",
    "        \n",
    "        if(nums1.length==0)  return inOneSide(nums1,nums2,totalCount,midIndex);\n",
    "        if(nums2.length==0)  return inOneSide(nums2,nums1,totalCount,midIndex);\n",
    "        if(nums1.length==1 && nums2.length==1) return (double)(nums1[0]+nums2[0])/2;\n",
    "        \n",
    "\n",
    "        if(nums1[nums1.length-1]<nums2[0]){\n",
    "            return inOneSide(nums1,nums2,totalCount,midIndex);\n",
    "        }\n",
    "\n",
    "        if(nums2[nums2.length-1]<nums1[0]){\n",
    "            return inOneSide(nums2,nums1,totalCount,midIndex);\n",
    "        }\n",
    "\n",
    "        int num1Mid=nums1.length/2;\n",
    "        if(nums1.length % 2 ==0) num1Mid=num1Mid-1;\n",
    "        int num2Mid=nums2.length/2;\n",
    "        if(nums2.length % 2 ==0) num2Mid=num2Mid-1;\n",
    "        \n",
    "\n",
    "        if(nums1[num1Mid]==nums2[num2Mid]){\n",
    "            return returnMidValue(nums1,nums2,num1Mid,num2Mid);\n",
    "        }\n",
    "        \n",
    "        if (nums1[num1Mid]>nums2[num2Mid]){\n",
    "            return midValue(nums1,nums2,num1Mid,num2Mid);\n",
    "        }\n",
    "\n",
    "        return midValue(nums2,nums1,num2Mid,num1Mid);\n",
    "    }\n",
    "}"
   ]
  },
  {
   "cell_type": "code",
   "execution_count": 80,
   "metadata": {},
   "outputs": [
    {
     "name": "stdout",
     "output_type": "stream",
     "text": [
      "0:1\n"
     ]
    },
    {
     "data": {
      "text/plain": [
       "4.0"
      ]
     },
     "execution_count": 80,
     "metadata": {},
     "output_type": "execute_result"
    }
   ],
   "source": [
    "new Solution().findMedianSortedArrays(new int[]{4},new int[]{1,2,3,5});"
   ]
  },
  {
   "cell_type": "code",
   "execution_count": null,
   "metadata": {},
   "outputs": [],
   "source": []
  }
 ],
 "metadata": {
  "kernelspec": {
   "display_name": "Java",
   "language": "java",
   "name": "java"
  },
  "language_info": {
   "codemirror_mode": "java",
   "file_extension": ".jshell",
   "mimetype": "text/x-java-source",
   "name": "Java",
   "pygments_lexer": "java",
   "version": "11.0.7+10"
  }
 },
 "nbformat": 4,
 "nbformat_minor": 4
}
