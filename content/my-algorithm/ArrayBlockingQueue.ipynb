{
 "cells": [
  {
   "cell_type": "code",
   "execution_count": 5,
   "metadata": {},
   "outputs": [],
   "source": [
    "import java.util.concurrent.locks.Condition;\n",
    "import java.util.concurrent.locks.ReentrantLock;\n",
    "import java.lang.IllegalArgumentException;\n",
    "\n",
    "public class ArrayBlockingQueue<E>{\n",
    "    final Object[] items;\n",
    "    private int takeIndex;\n",
    "    private int putIndex;\n",
    "    private int count;\n",
    "    private ReentrantLock lock;\n",
    "    private Condition notEmpty;\n",
    "    private Condition notFull;\n",
    "    \n",
    "    public ArrayBlockingQueue(int capacity,boolean fair){\n",
    "        if (capacity<=0)\n",
    "            throw new IllegalArgumentException();\n",
    "        this.items=new Object[capacity];\n",
    "        this.lock=new ReentrantLock(fair);\n",
    "        this.notEmpty=this.lock.newCondition();\n",
    "        this.notFull=this.lock.newCondition();\n",
    "    }\n",
    "    \n",
    "    public void put(E e) throws InterruptedException {\n",
    "        Objects.requireNonNull(e);\n",
    "        final ReentrantLock lock = this.lock;\n",
    "        lock.lockInterruptibly();\n",
    "        try {\n",
    "            while (count == items.length)\n",
    "                notFull.await();\n",
    "            enqueue(e);\n",
    "        } finally {\n",
    "            lock.unlock();\n",
    "        }\n",
    "    }\n",
    "    \n",
    "    private void enqueue(E e) {\n",
    "        final Object[] items = this.items;\n",
    "        items[putIndex] = e;\n",
    "        if (++putIndex == items.length) putIndex = 0;\n",
    "        count++;\n",
    "        notEmpty.signal();\n",
    "    }\n",
    "    \n",
    "    private E dequeue() {\n",
    "        final Object[] items = this.items;\n",
    "        E e = (E) items[takeIndex];\n",
    "        items[takeIndex] = null;\n",
    "        if (++takeIndex == items.length) takeIndex = 0;\n",
    "        count--;\n",
    "        notFull.signal();\n",
    "        return e;\n",
    "    }\n",
    "    \n",
    "    public E take() throws InterruptedException {\n",
    "        final ReentrantLock lock = this.lock;\n",
    "        lock.lockInterruptibly();\n",
    "        try {\n",
    "            while (count == 0)\n",
    "                notEmpty.await();\n",
    "            return dequeue();\n",
    "        } finally {\n",
    "            lock.unlock();\n",
    "        }\n",
    "    }\n",
    "}"
   ]
  },
  {
   "cell_type": "code",
   "execution_count": 22,
   "metadata": {},
   "outputs": [],
   "source": [
    "public int climbStair(int n){\n",
    "    if (n<1)\n",
    "        throw new IllegalArgumentException();\n",
    "   \n",
    "    if (n<3) return n;\n",
    "    int cur=0,pre1=1,pre2=2;\n",
    "    \n",
    "    for (int i=2;i<n;i++){\n",
    "        cur=pre1+pre2;\n",
    "        pre1=pre2;\n",
    "        pre2=cur;\n",
    "    }\n",
    "    return cur;\n",
    "}"
   ]
  },
  {
   "cell_type": "code",
   "execution_count": 109,
   "metadata": {},
   "outputs": [
    {
     "data": {
      "text/plain": [
       "100001"
      ]
     },
     "execution_count": 109,
     "metadata": {},
     "output_type": "execute_result"
    }
   ],
   "source": [
    "Integer.toBinaryString(33);"
   ]
  },
  {
   "cell_type": "code",
   "execution_count": 105,
   "metadata": {},
   "outputs": [],
   "source": [
    "int maxGap(int value) {\n",
    "        if (value == 0 || value == 1) return 0;\n",
    "        String vString = Integer.toBinaryString(value);\n",
    "        int maxGap = 0;\n",
    "        int start = -1;\n",
    "        for (int i = 0; i < vString.length(); i++) {\n",
    "            if (vString.charAt(i) == '1') {\n",
    "                if (start != -1) {\n",
    "                    maxGap = Math.max(maxGap, i - start);\n",
    "                    start = -1;\n",
    "                }\n",
    "                continue;\n",
    "            }\n",
    "            if (start == -1) start = i;\n",
    "        }\n",
    "        return maxGap;\n",
    "    }"
   ]
  },
  {
   "cell_type": "code",
   "execution_count": 108,
   "metadata": {},
   "outputs": [
    {
     "data": {
      "text/plain": [
       "4"
      ]
     },
     "execution_count": 108,
     "metadata": {},
     "output_type": "execute_result"
    }
   ],
   "source": [
    "Integer.toBinaryString(33);\n",
    "maxGap(33);"
   ]
  },
  {
   "cell_type": "code",
   "execution_count": 140,
   "metadata": {},
   "outputs": [],
   "source": [
    "int[] rotate(int[] values, int times) {\n",
    "        if (values == null || values.length == 0 || times <= 0) {\n",
    "            return values;\n",
    "        }\n",
    "        int[] tempValues = new int[times];\n",
    "        int len = values.length;\n",
    "        times = times % len;\n",
    "        int swappedIndex = -1;\n",
    "        int index = times - 1;\n",
    "        \n",
    "        for (int i = len - 1; i >= len - times; i--) {\n",
    "            tempValues[index--] = values[i];\n",
    "            swappedIndex = i - times;\n",
    "            if (swappedIndex >= 0){\n",
    "                values[i] = values[swappedIndex];\n",
    "            }\n",
    "        }\n",
    "    \n",
    "        for(int i: tempValues) {System.out.println(i);}\n",
    "        \n",
    "\n",
    "        for (int i = swappedIndex-1; i >=0; i--) {\n",
    "            values[i+times] = values[i];\n",
    "        }\n",
    "\n",
    "        for (int i = 0; i < times; i++) {\n",
    "            values[i] = tempValues[i];\n",
    "        }\n",
    "        return values;\n",
    "    }"
   ]
  },
  {
   "cell_type": "code",
   "execution_count": 145,
   "metadata": {},
   "outputs": [
    {
     "name": "stdout",
     "output_type": "stream",
     "text": [
      "2\n",
      "3\n",
      "23451"
     ]
    }
   ],
   "source": [
    "for (int i: rotate(new int[]{4,5,1,2,3},2)){\n",
    "    System.out.print(i);\n",
    "}"
   ]
  },
  {
   "cell_type": "code",
   "execution_count": 150,
   "metadata": {},
   "outputs": [],
   "source": [
    "int solution(int[] values) {\n",
    "        if (values == null || values.length == 0) return 0;\n",
    "        if (values.length == 1) return Math.abs(values[0]);\n",
    "        if (values.length == 2) return Math.abs(values[0] - values[1]);\n",
    "\n",
    "        int total = 0;\n",
    "        for (int v : values) {\n",
    "            total = total + v;\n",
    "        }\n",
    "        int minDiff = Integer.MAX_VALUE;\n",
    "        int firstValue = 0;\n",
    "        int secondValue = total;\n",
    "        for (int v : values) {\n",
    "            firstValue = firstValue + v;\n",
    "            secondValue = secondValue - v;\n",
    "            System.out.println(firstValue);\n",
    "            System.out.println(secondValue);\n",
    "            System.out.println(firstValue-secondValue);\n",
    "            minDiff = Math.min(minDiff, Math.abs(firstValue - secondValue));\n",
    "        }\n",
    "        return minDiff;\n",
    "    }"
   ]
  },
  {
   "cell_type": "code",
   "execution_count": 171,
   "metadata": {},
   "outputs": [],
   "source": [
    "class Solution {\n",
    "    private static java.util.Random rand = new java.util.Random();\n",
    "    static void swap(int[] values, int i, int j) {\n",
    "        int tempValue = values[i];\n",
    "        values[i] = values[j];\n",
    "        values[j] = tempValue;\n",
    "    }\n",
    "\n",
    "    static int partition(int[] A, int l, int h) {\n",
    "\n",
    "        int i = l;\n",
    "        int j = h+1;\n",
    "        int v = A[i];\n",
    "        while (true) {\n",
    "            while (A[++i] < v && i != h) ;\n",
    "            while (A[--j] > v && j != l) ;\n",
    "            if (i >= j) break;\n",
    "            swap(A, i, j);\n",
    "        }\n",
    "        swap(A, l, j);\n",
    "        return j;\n",
    "    }\n",
    "\n",
    "    static void sort(int[] A, int l, int h) {\n",
    "        if(l>=h) return;\n",
    "        int mid = partition(A, l, h);\n",
    "        sort(A, l, mid - 1);\n",
    "        sort(A, mid + 1, h);\n",
    "    }\n",
    "\n",
    "    static void shuffle(int[] arr) {\n",
    "        int length = arr.length;\n",
    "        for ( int i = length; i > 0; i-- ){\n",
    "            int randInd = rand.nextInt(i);\n",
    "            swap(arr, randInd, i - 1);\n",
    "        }\n",
    "    }\n",
    "\n",
    "    public int solution(int[] A) {\n",
    "        if (A == null || A.length == 0) return 1;\n",
    "        int count = 0;\n",
    "        for (int v : A) {\n",
    "            if (v > 0) count++;\n",
    "        }\n",
    "        if (count == 0) return 1;\n",
    "        int[] values = new int[count];\n",
    "        int index = 0;\n",
    "        for (int v : A) {\n",
    "            if (v > 0) values[index++] = v;\n",
    "        }\n",
    "\n",
    "        shuffle(values);\n",
    "        sort(values, 0, count - 1);\n",
    "\n",
    "        int value=1;\n",
    "        for(int v:values){\n",
    "            if(v>value) return value;\n",
    "            if(v==value) value++;\n",
    "        }\n",
    "        return values[count-1]+1;\n",
    "    }\n",
    "}"
   ]
  },
  {
   "cell_type": "code",
   "execution_count": 172,
   "metadata": {},
   "outputs": [
    {
     "data": {
      "text/plain": [
       "4"
      ]
     },
     "execution_count": 172,
     "metadata": {},
     "output_type": "execute_result"
    }
   ],
   "source": [
    "new Solution().solution(new int[]{1, 2,3});"
   ]
  },
  {
   "cell_type": "code",
   "execution_count": 181,
   "metadata": {},
   "outputs": [],
   "source": [
    "public int solution(int[] A) {\n",
    "        if (A == null || A.length == 0) return 0;\n",
    "\n",
    "        int westCount = 0;\n",
    "        for (int v : A) {\n",
    "            if (v == 1) westCount++;\n",
    "        }\n",
    "        int total = 0;\n",
    "\n",
    "        int eastIndex = 0;\n",
    "\n",
    "        while (eastIndex < A.length) {\n",
    "            if (A[eastIndex] == 1) {\n",
    "                westCount--;\n",
    "                eastIndex++;\n",
    "                continue;\n",
    "            }\n",
    "\n",
    "            if (A[eastIndex] == 0) {\n",
    "                total = total + westCount;\n",
    "                eastIndex++;\n",
    "            }\n",
    "        }\n",
    "\n",
    "        return total;\n",
    "    }"
   ]
  },
  {
   "cell_type": "code",
   "execution_count": 182,
   "metadata": {},
   "outputs": [
    {
     "data": {
      "text/plain": [
       "5"
      ]
     },
     "execution_count": 182,
     "metadata": {},
     "output_type": "execute_result"
    }
   ],
   "source": [
    "solution(new int[]{0,1,0,1,1});"
   ]
  },
  {
   "cell_type": "code",
   "execution_count": 226,
   "metadata": {},
   "outputs": [],
   "source": [
    "class HeapSort {\n",
    "    public int[] sort(int[] values) {\n",
    "        if (values == null || values.length==1) return values;\n",
    "\n",
    "        values = rebuild(values);\n",
    "        buildHeap(values);\n",
    "\n",
    "        for (int i = values.length - 1; i > 1; i--) {\n",
    "            swap(values, 1, i);\n",
    "            sink(values, 1, i - 1);\n",
    "        }\n",
    "        return values;\n",
    "    }\n",
    "\n",
    "    static int[] rebuild(int[] values) {\n",
    "        int[] newValues = new int[values.length + 1];\n",
    "        for (int i = 0; i < values.length; i++) {\n",
    "            newValues[i + 1] = values[i];\n",
    "        }\n",
    "        return newValues;\n",
    "    }\n",
    "\n",
    "    static void sink(int[] values, int l, int h) {\n",
    "        while (2 * l <= h) {\n",
    "            int childIndex = 2 * l;\n",
    "            if (childIndex < h && values[childIndex] < values[childIndex + 1])\n",
    "                childIndex++;\n",
    "            if (values[l] >= values[childIndex]) break;\n",
    "            swap(values, l, childIndex);\n",
    "            l = childIndex;\n",
    "        }\n",
    "    }\n",
    "\n",
    "    static void buildHeap(int[] values) {\n",
    "        int endIndex = values.length / 2 + 1;\n",
    "        for (int i = endIndex; i > 0; i--) {\n",
    "            sink(values, i, values.length - 1);\n",
    "        }\n",
    "    }\n",
    "\n",
    "    static void swap(int[] values, int i, int j) {\n",
    "        if (i == j) return;\n",
    "        int tempValue = values[i];\n",
    "        values[i] = values[j];\n",
    "        values[j] = tempValue;\n",
    "    }\n",
    "}"
   ]
  },
  {
   "cell_type": "code",
   "execution_count": 227,
   "metadata": {},
   "outputs": [
    {
     "name": "stdout",
     "output_type": "stream",
     "text": [
      "0\n",
      "-3\n",
      "-2\n",
      "-2\n",
      "-1\n",
      "-1\n"
     ]
    }
   ],
   "source": [
    "int[] values=new int[]{-1, -2, -3, -1, -2};\n",
    "values=new HeapSort().sort(values);\n",
    "for(int v:values){\n",
    "    System.out.println(v);\n",
    "}"
   ]
  },
  {
   "cell_type": "code",
   "execution_count": 228,
   "metadata": {},
   "outputs": [],
   "source": [
    "class Distinct {\n",
    "\n",
    "    public int solution(int[] values) {\n",
    "        if (values == null) return 0;\n",
    "        if (values.length == 1) return 1;\n",
    "\n",
    "        values = rebuild(values);\n",
    "        buildHeap(values);\n",
    "\n",
    "        int count = 0;\n",
    "        int last = values[values.length - 1];\n",
    "        for (int i = values.length - 1; i > 1; i--) {\n",
    "            swap(values, 1, i);\n",
    "            if (last != values[i]) {\n",
    "                count++;\n",
    "                last = values[i];\n",
    "            }\n",
    "            sink(values, 1, i - 1);\n",
    "        }\n",
    "        if(last!=values[1] || count==0) count++;\n",
    "        return count;\n",
    "    }\n",
    "\n",
    "    static int[] rebuild(int[] values) {\n",
    "        int[] newValues = new int[values.length + 1];\n",
    "        for (int i = 0; i < values.length; i++) {\n",
    "            newValues[i + 1] = values[i];\n",
    "        }\n",
    "        return newValues;\n",
    "    }\n",
    "\n",
    "    static void sink(int[] values, int l, int h) {\n",
    "        while (2 * l <= h) {\n",
    "            int childIndex = 2 * l;\n",
    "            if (childIndex < h && values[childIndex] < values[childIndex + 1])\n",
    "                childIndex++;\n",
    "            if (values[l] >= values[childIndex]) break;\n",
    "            swap(values, l, childIndex);\n",
    "            l = childIndex;\n",
    "        }\n",
    "    }\n",
    "\n",
    "    static void buildHeap(int[] values) {\n",
    "        int endIndex = values.length / 2 + 1;\n",
    "        for (int i = endIndex; i > 0; i--) {\n",
    "            sink(values, i, values.length - 1);\n",
    "        }\n",
    "    }\n",
    "\n",
    "    static void swap(int[] values, int i, int j) {\n",
    "        if (i == j) return;\n",
    "        int tempValue = values[i];\n",
    "        values[i] = values[j];\n",
    "        values[j] = tempValue;\n",
    "    }\n",
    "}"
   ]
  },
  {
   "cell_type": "code",
   "execution_count": 229,
   "metadata": {},
   "outputs": [
    {
     "data": {
      "text/plain": [
       "3"
      ]
     },
     "execution_count": 229,
     "metadata": {},
     "output_type": "execute_result"
    }
   ],
   "source": [
    "int[] values=new int[]{-1, -2, -3, -1, -2};\n",
    "new Distinct().solution(values);"
   ]
  },
  {
   "cell_type": "code",
   "execution_count": 311,
   "metadata": {},
   "outputs": [],
   "source": [
    "class MaxProductOfThree {\n",
    "    public int solution(int[] A) {\n",
    "        if (A == null || A.length < 3) return 0;\n",
    "        if (A.length == 3) return A[0] * A[1] * A[2];\n",
    "\n",
    "        int negativeCount = 0;\n",
    "        int positiveCount = 0;\n",
    "        for (int v : A) {\n",
    "            if (v < 0) negativeCount++;\n",
    "            if (v > 0) positiveCount++;\n",
    "        }\n",
    "\n",
    "        if (negativeCount + positiveCount <= 2) return 0;\n",
    "        if (negativeCount + positiveCount < A.length && positiveCount<3) return 0;\n",
    "\n",
    "        int[] negatives = new int[negativeCount];\n",
    "        int[] positives = new int[positiveCount];\n",
    "\n",
    "        int nIndex = 0;\n",
    "        int pIndex = 0;\n",
    "        for (int v : A) {\n",
    "            if (v < 0) negatives[nIndex++] = v;\n",
    "            if (v > 0) positives[pIndex++] = v;\n",
    "        }\n",
    "\n",
    "        if (negativeCount <= 1) {\n",
    "            if (positiveCount == 3)\n",
    "                return positives[positiveCount - 1] * positives[positiveCount - 2] * positives[positiveCount - 3];\n",
    "            sort(positives);\n",
    "            return positives[positiveCount - 1] * positives[positiveCount - 2] * positives[positiveCount - 3];\n",
    "        }\n",
    "\n",
    "        if (positiveCount <= 2) {\n",
    "            sort(negatives);\n",
    "            int negativeMax = negatives[negativeCount - 1] * negatives[negativeCount - 2];\n",
    "            if (positiveCount == 1) return negativeMax * positives[0];\n",
    "            if (positiveCount == 2) return Math.max(positives[0], positives[1]) * negativeMax;\n",
    "            return negatives[negativeCount-1] * negatives[negativeCount-2] * negatives[negativeCount-3];\n",
    "        }\n",
    "\n",
    "\n",
    "        sort(positives);\n",
    "        sort(negatives);\n",
    "        for(int v:positives) System.out.println(v);\n",
    "        for(int v:negatives) System.out.println(v);\n",
    "\n",
    "        int negativeMax = negatives[negativeCount - 1] * negatives[negativeCount - 2];\n",
    "        int secondPositiveMax = positives[positiveCount - 2] * positives[positiveCount - 3];\n",
    "        return Math.max(negativeMax, secondPositiveMax) * positives[positiveCount - 1];\n",
    "    }\n",
    "\n",
    "    private static java.util.Random rand = new java.util.Random();\n",
    "\n",
    "    static void shuffle(int[] arr) {\n",
    "        int length = arr.length;\n",
    "        for (int i = length; i > 0; i--) {\n",
    "            int randInd = rand.nextInt(i);\n",
    "            swap(arr, randInd, i - 1);\n",
    "        }\n",
    "    }\n",
    "\n",
    "    public void sort(int[] nums) {\n",
    "        shuffle(nums);\n",
    "        sort(nums, 0, nums.length - 1);\n",
    "    }\n",
    "\n",
    "    static void swap(int[] values, int i, int j) {\n",
    "        int tempValue = values[i];\n",
    "        values[i] = values[j];\n",
    "        values[j] = tempValue;\n",
    "    }\n",
    "\n",
    "    static void sort(int[] nums, int l, int h) {\n",
    "        if (h <= l) {\n",
    "            return;\n",
    "        }\n",
    "\n",
    "        int i = l;\n",
    "        int j = h + 1;\n",
    "        int v = nums[l];\n",
    "        \n",
    "        while (true) {\n",
    "            while (nums[++i] < v && i != h) ;\n",
    "            while (nums[--j] > v && j != l) ;\n",
    "            if (i >= j) break;\n",
    "            swap(nums, i, j);\n",
    "        }\n",
    "        swap(nums, l, j);\n",
    "\n",
    "        sort(nums, l, j - 1);\n",
    "        sort(nums, j + 1, h);\n",
    "    }\n",
    "}\n",
    "\n"
   ]
  },
  {
   "cell_type": "code",
   "execution_count": 312,
   "metadata": {},
   "outputs": [
    {
     "data": {
      "text/plain": [
       "-120"
      ]
     },
     "execution_count": 312,
     "metadata": {},
     "output_type": "execute_result"
    }
   ],
   "source": [
    "new MaxProductOfThree().solution(new int[]{-5, -6, -4, -7, -10});"
   ]
  },
  {
   "cell_type": "code",
   "execution_count": 291,
   "metadata": {},
   "outputs": [],
   "source": [
    "class QuickSort {\n",
    "    private static java.util.Random rand = new java.util.Random();\n",
    "\n",
    "    static void shuffle(int[] arr) {\n",
    "        int length = arr.length;\n",
    "        for (int i = length; i > 0; i--) {\n",
    "            int randInd = rand.nextInt(i);\n",
    "            swap(arr, randInd, i - 1);\n",
    "        }\n",
    "    }\n",
    "\n",
    "    public void sort(int[] nums) {\n",
    "        shuffle(nums);\n",
    "        sort(nums, 0, nums.length - 1);\n",
    "    }\n",
    "\n",
    "    static void swap(int[] values, int i, int j) {\n",
    "        int tempValue = values[i];\n",
    "        values[i] = values[j];\n",
    "        values[j] = tempValue;\n",
    "    }\n",
    "\n",
    "    static void sort(int[] nums, int l, int h) {\n",
    "        if (h <= l) {\n",
    "            return;\n",
    "        }\n",
    "\n",
    "        int i = l;\n",
    "        int j = h + 1;\n",
    "        int v = nums[l];\n",
    "        \n",
    "        while (true) {\n",
    "            while (nums[++i] < v && i != h) ;\n",
    "            while (nums[--j] > v && j != l) ;\n",
    "            if (i >= j) break;\n",
    "            swap(nums, i, j);\n",
    "        }\n",
    "        swap(nums, l, j);\n",
    "\n",
    "        sort(nums, l, j - 1);\n",
    "        sort(nums, j + 1, h);\n",
    "    }\n",
    "}"
   ]
  },
  {
   "cell_type": "code",
   "execution_count": 297,
   "metadata": {},
   "outputs": [
    {
     "name": "stdout",
     "output_type": "stream",
     "text": [
      "-3\n",
      "-2\n",
      "1\n",
      "2\n",
      "5\n",
      "6\n"
     ]
    }
   ],
   "source": [
    "int[] values=new int[]{-3, 1, 2, -2, 5, 6};\n",
    "new QuickSort().sort(values);\n",
    "for(int v:values) System.out.println(v);"
   ]
  },
  {
   "cell_type": "code",
   "execution_count": 285,
   "metadata": {},
   "outputs": [],
   "source": [
    "class ThreePartQuickSort {\n",
    "\n",
    "    private static java.util.Random rand = new java.util.Random();\n",
    "\n",
    "    static void shuffle(int[] arr) {\n",
    "        int length = arr.length;\n",
    "        for (int i = length; i > 0; i--) {\n",
    "            int randInd = rand.nextInt(i);\n",
    "            swap(arr, randInd, i - 1);\n",
    "        }\n",
    "    }\n",
    "\n",
    "    public void sort(int[] nums) {\n",
    "        shuffle(nums);\n",
    "        sort(nums, 0, nums.length - 1);\n",
    "    }\n",
    "\n",
    "    static void swap(int[] values, int i, int j) {\n",
    "        int tempValue = values[i];\n",
    "        values[i] = values[j];\n",
    "        values[j] = tempValue;\n",
    "    }\n",
    "\n",
    "    static void sort(int[] nums, int l, int h) {\n",
    "        if (h <= l) {\n",
    "            return;\n",
    "        }\n",
    "        int lt = l, i = l + 1, gt = h;\n",
    "        int v = nums[l];\n",
    "        while (i <= gt) {\n",
    "            if (nums[i] < v) {\n",
    "                swap(nums, lt++, i++);\n",
    "            } else if (nums[i] > v) {\n",
    "                swap(nums, i, gt--);\n",
    "            } else {\n",
    "                i++;\n",
    "            }\n",
    "        }\n",
    "\n",
    "        sort(nums, l, lt - 1);\n",
    "        sort(nums, gt + 1, h);\n",
    "    }\n",
    "}"
   ]
  },
  {
   "cell_type": "code",
   "execution_count": 288,
   "metadata": {},
   "outputs": [
    {
     "name": "stdout",
     "output_type": "stream",
     "text": [
      "-3\n",
      "-2\n",
      "1\n",
      "2\n",
      "5\n",
      "6\n"
     ]
    }
   ],
   "source": [
    "int[] values=new int[]{-3, 1, 2, -2, 5, 6};\n",
    "new ThreePartQuickSort().sort(values);\n",
    "for(int v:values) System.out.println(v);"
   ]
  },
  {
   "cell_type": "code",
   "execution_count": 329,
   "metadata": {},
   "outputs": [],
   "source": [
    "class NumberOfDiscIntersections {\n",
    "    static int[][] convert2Range(int[] A) {\n",
    "        int[][] ranges = new int[A.length][2];\n",
    "        for (int i = 0; i < A.length; i++) {\n",
    "            ranges[i][0] = i - A[i];\n",
    "            if (Integer.MAX_VALUE - A[i] < i)\n",
    "                ranges[i][1] = Integer.MAX_VALUE;\n",
    "            else\n",
    "                ranges[i][1] = A[i] + i;\n",
    "        }\n",
    "        return ranges;\n",
    "    }\n",
    "\n",
    "    static int searchCount(int[][] ranges, int i) {\n",
    "        int maxValue = ranges[i][1];\n",
    "        int start = i + 1;\n",
    "        int end = ranges.length - 1;\n",
    "        if (start == end) {\n",
    "            if (ranges[start][0] <= maxValue) return 1;\n",
    "            return 0;\n",
    "        }\n",
    "\n",
    "        while (true) {\n",
    "            if (start >= end) {\n",
    "                if (ranges[start][0] <= maxValue) return start - i;\n",
    "                return start - i - 1;\n",
    "            }\n",
    "            int mid = start + (end - start) / 2;\n",
    "            if (ranges[mid][0] == maxValue) {\n",
    "                while (ranges[mid][0] == maxValue) {\n",
    "                    if (mid == end) break;\n",
    "                    mid++;\n",
    "                }\n",
    "                if (ranges[mid][0] != maxValue) mid--;\n",
    "                return mid - i;\n",
    "            }\n",
    "\n",
    "            if (ranges[mid][0] < maxValue) {\n",
    "                start = mid+1;\n",
    "            } else\n",
    "                end = mid-1;\n",
    "        }\n",
    "    }\n",
    "\n",
    "    public int solution(int[] A) {\n",
    "        if (A == null || A.length <= 1) return 0;\n",
    "\n",
    "        int[][] ranges = convert2Range(A);\n",
    "        sort(ranges);\n",
    "\n",
    "        int count = 0;\n",
    "        for (int i = 0; i < ranges.length-1; i++) {\n",
    "            count = count + searchCount(ranges, i);\n",
    "            if (count > 10000000) return -1;\n",
    "        }\n",
    "        return count;\n",
    "    }\n",
    "\n",
    "    public int solution1(int[] A) {\n",
    "        if (A == null || A.length <= 1) return 0;\n",
    "\n",
    "        int[][] ranges = convert2Range(A);\n",
    "        sort(ranges);\n",
    "\n",
    "        int count = 0;\n",
    "        for (int i = 0; i < ranges.length; i++) {\n",
    "            for (int j = i + 1; j < ranges.length; j++) {\n",
    "                if (ranges[i][1] < ranges[j][0]) break;\n",
    "                count++;\n",
    "                if (count > 10000000) return -1;\n",
    "            }\n",
    "        }\n",
    "        return count;\n",
    "    }\n",
    "\n",
    "    private static java.util.Random rand = new java.util.Random();\n",
    "\n",
    "    static void shuffle(int[][] arr) {\n",
    "        int length = arr.length;\n",
    "        for (int i = length; i > 0; i--) {\n",
    "            int randInd = rand.nextInt(i);\n",
    "            swap(arr, randInd, i - 1);\n",
    "        }\n",
    "    }\n",
    "\n",
    "    public void sort(int[][] nums) {\n",
    "        shuffle(nums);\n",
    "        sort(nums, 0, nums.length - 1);\n",
    "    }\n",
    "\n",
    "    static void swap(int[][] values, int i, int j) {\n",
    "        int[] tempValue = values[i];\n",
    "        values[i] = values[j];\n",
    "        values[j] = tempValue;\n",
    "    }\n",
    "\n",
    "    static void sort(int[][] nums, int l, int h) {\n",
    "        if (h <= l) {\n",
    "            return;\n",
    "        }\n",
    "\n",
    "        int i = l;\n",
    "        int j = h + 1;\n",
    "        int v = nums[l][0];\n",
    "\n",
    "        while (true) {\n",
    "            while (nums[++i][0] < v && i != h) ;\n",
    "            while (nums[--j][0] > v && j != l) ;\n",
    "            if (i >= j) break;\n",
    "            swap(nums, i, j);\n",
    "        }\n",
    "        swap(nums, l, j);\n",
    "\n",
    "        sort(nums, l, j - 1);\n",
    "        sort(nums, j + 1, h);\n",
    "    }\n",
    "}"
   ]
  },
  {
   "cell_type": "code",
   "execution_count": 330,
   "metadata": {},
   "outputs": [
    {
     "data": {
      "text/plain": [
       "6"
      ]
     },
     "execution_count": 330,
     "metadata": {},
     "output_type": "execute_result"
    }
   ],
   "source": [
    "new NumberOfDiscIntersections().solution(new int[]{1, 0, 1, 0, 1});"
   ]
  },
  {
   "cell_type": "code",
   "execution_count": 331,
   "metadata": {},
   "outputs": [],
   "source": [
    "class Triangle {\n",
    "\n",
    "    public int solution(int[] A) {\n",
    "        if (A == null || A.length < 3) return 0;\n",
    "\n",
    "        sort(A);\n",
    "\n",
    "        int count = 0;\n",
    "\n",
    "        int index = 0;\n",
    "        int a = A[index];\n",
    "        while (A[++index] == a && index < (A.length - 2)) ;\n",
    "        int b = A[index];\n",
    "        while (A[++index] == b && index < (A.length - 1)) ;\n",
    "\n",
    "        if (a == b) return 0;\n",
    "\n",
    "        while (index < A.length) {\n",
    "            int c = A[index];\n",
    "            while (++index < A.length && A[index] == c) ;\n",
    "\n",
    "            if (c - b < a) count++;\n",
    "            a = b;\n",
    "            b = c;\n",
    "        }\n",
    "\n",
    "        return count;\n",
    "    }\n",
    "\n",
    "    private static java.util.Random rand = new java.util.Random();\n",
    "\n",
    "    static void shuffle(int[] arr) {\n",
    "        int length = arr.length;\n",
    "        for (int i = length; i > 0; i--) {\n",
    "            int randInd = rand.nextInt(i);\n",
    "            swap(arr, randInd, i - 1);\n",
    "        }\n",
    "    }\n",
    "\n",
    "    public void sort(int[] nums) {\n",
    "        shuffle(nums);\n",
    "        sort(nums, 0, nums.length - 1);\n",
    "    }\n",
    "\n",
    "    static void swap(int[] values, int i, int j) {\n",
    "        int tempValue = values[i];\n",
    "        values[i] = values[j];\n",
    "        values[j] = tempValue;\n",
    "    }\n",
    "\n",
    "    static void sort(int[] nums, int l, int h) {\n",
    "        if (h <= l) {\n",
    "            return;\n",
    "        }\n",
    "\n",
    "        int i = l;\n",
    "        int j = h + 1;\n",
    "        int v = nums[l];\n",
    "\n",
    "        while (true) {\n",
    "            while (nums[++i] < v && i != h) ;\n",
    "            while (nums[--j] > v && j != l) ;\n",
    "            if (i >= j) break;\n",
    "            swap(nums, i, j);\n",
    "        }\n",
    "        swap(nums, l, j);\n",
    "\n",
    "        sort(nums, l, j - 1);\n",
    "        sort(nums, j + 1, h);\n",
    "    }\n",
    "\n",
    "}"
   ]
  },
  {
   "cell_type": "code",
   "execution_count": 349,
   "metadata": {},
   "outputs": [],
   "source": [
    "class Solution {\n",
    "    public int solution(String s) {\n",
    "        if (s == null) return 0;\n",
    "        if (s.length() % 2 == 1) return 0;\n",
    "        int[] stack = new int[s.length()];\n",
    "        int index = 0;\n",
    "\n",
    "        for (int i = 0; i < s.length(); i++) {\n",
    "            char c = s.charAt(i);\n",
    "            if (isLeft(c)) stack[index++] = c;\n",
    "            else {\n",
    "                if (index > 0 && right(stack[--index]) != c) return 0;\n",
    "            }\n",
    "            //if (i!=s.length()-1 && index == 0) return 0;\n",
    "        }\n",
    "        \n",
    "        return index == 0 ? 1 : 0;\n",
    "    }\n",
    "\n",
    "    static boolean isLeft(char c) {\n",
    "        return c == '{' || c == '[' || c == '(';\n",
    "    }\n",
    "\n",
    "    static char right(int c) {\n",
    "        switch (c) {\n",
    "            case '(':\n",
    "                return ')';\n",
    "            case '[':\n",
    "                return ']';\n",
    "            case '{':\n",
    "                return '}';\n",
    "        }\n",
    "        return '0';\n",
    "    }\n",
    "}\n"
   ]
  },
  {
   "cell_type": "code",
   "execution_count": 350,
   "metadata": {},
   "outputs": [
    {
     "data": {
      "text/plain": [
       "1"
      ]
     },
     "execution_count": 350,
     "metadata": {},
     "output_type": "execute_result"
    }
   ],
   "source": [
    "String s=\"()(()())((()())(()()))\";\n",
    "new Solution().solution(s);"
   ]
  },
  {
   "cell_type": "code",
   "execution_count": 355,
   "metadata": {},
   "outputs": [],
   "source": [
    "class EquiLeader {\n",
    "    public int solution(int[] A) {\n",
    "        int count = 0;\n",
    "        for (int i = 0; i < A.length - 1; i++) {\n",
    "            int leader1 = dominator(A, 0, i);\n",
    "            if (leader1 == -1) continue;\n",
    "            int leader2 = dominator(A, i + 1, A.length - 1);\n",
    "            System.out.println(leader1+\":\"+leader2);\n",
    "            if (leader2 != -1 && A[leader1] == A[leader2]) count++;\n",
    "        }\n",
    "        return count;\n",
    "    }\n",
    "\n",
    "    static int dominator(int[] A, int l, int j) {\n",
    "        if (l == j) return l;\n",
    "\n",
    "        int count = 1;\n",
    "        int dominator = A[l];\n",
    "        for (int i = l; i <= j; i++) {\n",
    "            if (dominator == A[i]) count++;\n",
    "            else {\n",
    "                count--;\n",
    "                if (count == 0) {\n",
    "                    dominator = A[i];\n",
    "                    count = 1;\n",
    "                }\n",
    "            }\n",
    "        }\n",
    "\n",
    "        count = 0;\n",
    "        for (int i = l; i <= j; i++) {\n",
    "            if (A[i] == dominator) count++;\n",
    "        }\n",
    "        if (count <= (j - l+1) / 2) return -1;\n",
    "        for (int i = l; i <= j; i++) {\n",
    "            if (A[i] == dominator) return i;\n",
    "        }\n",
    "        return -1;\n",
    "    }\n",
    "}"
   ]
  },
  {
   "cell_type": "code",
   "execution_count": 356,
   "metadata": {},
   "outputs": [
    {
     "name": "stdout",
     "output_type": "stream",
     "text": [
      "0:2\n",
      "0:3\n",
      "0:-1\n",
      "0:5\n"
     ]
    },
    {
     "data": {
      "text/plain": [
       "2"
      ]
     },
     "execution_count": 356,
     "metadata": {},
     "output_type": "execute_result"
    }
   ],
   "source": [
    "new EquiLeader().solution(new int[]{4, 3, 4, 4, 4, 2});"
   ]
  },
  {
   "cell_type": "code",
   "execution_count": 369,
   "metadata": {},
   "outputs": [],
   "source": [
    "class EquiLeader2 {\n",
    "    public int solution(int[] A) {\n",
    "        int count = 0;\n",
    "        int[] leader1 = null;\n",
    "        int[] leader2 = null;\n",
    "        for (int i = 0; i < A.length - 1; i++) {\n",
    "            if (leader1 != null) {\n",
    "                if (A[leader1[0]] == A[i]) {\n",
    "                    leader1[1] = leader1[1] + 1;\n",
    "                } else {\n",
    "                    if (leader1[1] <= (i+1) / 2) leader1 = null;\n",
    "                }\n",
    "            }\n",
    "\n",
    "            if (leader1 == null) leader1 = dominator(A, 0, i);\n",
    "            if (leader1 == null) continue;\n",
    "            System.out.println(leader1[0]+\"[leader1]:\"+leader1[1]);\n",
    "\n",
    "            if (leader2 != null && A[leader2[0]] == A[i]) {\n",
    "                leader2[1] = leader2[1] - 1;\n",
    "                if (leader2[1] <= (A.length - i - 1) / 2) leader2 = null;\n",
    "            }\n",
    "\n",
    "            if (leader2 == null)\n",
    "                leader2 = dominator(A, i + 1, A.length - 1);\n",
    "            if (leader2 == null) continue;\n",
    "            System.out.println(leader2[0]+\"[leader2]:\"+leader2[1]);\n",
    "\n",
    "            if (A[leader1[0]] == A[leader2[0]]) count++;\n",
    "        }\n",
    "        return count;\n",
    "    }\n",
    "\n",
    "    static int[] dominator(int[] A, int l, int j) {\n",
    "        if (l == j) return new int[]{l, 1};\n",
    "\n",
    "        int count = 1;\n",
    "        int dominator = A[l];\n",
    "        for (int i = l; i <= j; i++) {\n",
    "            if (dominator == A[i]) count++;\n",
    "            else {\n",
    "                count--;\n",
    "                if (count == 0) {\n",
    "                    dominator = A[i];\n",
    "                    count = 1;\n",
    "                }\n",
    "            }\n",
    "        }\n",
    "\n",
    "        count = 0;\n",
    "        for (int i = l; i <= j; i++) {\n",
    "            if (A[i] == dominator) count++;\n",
    "        }\n",
    "        if (count <= (j - l + 1) / 2) return null;\n",
    "        for (int i = j; i >= l; i--) {\n",
    "            if (A[i] == dominator) return new int[]{i, count};\n",
    "        }\n",
    "        return null;\n",
    "    }\n",
    "}\n"
   ]
  },
  {
   "cell_type": "code",
   "execution_count": 370,
   "metadata": {},
   "outputs": [
    {
     "name": "stdout",
     "output_type": "stream",
     "text": [
      "0[leader1]:1\n",
      "4[leader2]:3\n",
      "2[leader1]:2\n",
      "4[leader2]:2\n",
      "2[leader1]:3\n",
      "2[leader1]:4\n",
      "5[leader2]:1\n"
     ]
    },
    {
     "data": {
      "text/plain": [
       "2"
      ]
     },
     "execution_count": 370,
     "metadata": {},
     "output_type": "execute_result"
    }
   ],
   "source": [
    "new EquiLeader2().solution(new int[]{4, 3, 4, 4, 4, 2});"
   ]
  },
  {
   "cell_type": "code",
   "execution_count": 382,
   "metadata": {},
   "outputs": [],
   "source": [
    "class Peaks {\n",
    "\n",
    "    public int solution(int[] A) {\n",
    "        int N = A.length;\n",
    "\n",
    "        int firstPeak = -1;\n",
    "        int lastPeak = -1;\n",
    "        int peakCount = 0;\n",
    "        int[] peaks = new int[N];\n",
    "\n",
    "        for (int i = 0; i < N; i++) peaks[i] = -1;\n",
    "        for (int i = N - 2; i > 0; i--) {\n",
    "            if (A[i] > A[i + 1] && A[i] > A[i - 1]) {\n",
    "                peaks[i] = i;\n",
    "                peakCount++;\n",
    "                firstPeak = i;\n",
    "                if (lastPeak == -1) lastPeak = i;\n",
    "            } else {\n",
    "                peaks[i] = peaks[i + 1];\n",
    "            }\n",
    "        }\n",
    "        \n",
    "        \n",
    "\n",
    "        if (peakCount < 2) return peakCount;\n",
    "        \n",
    "\n",
    "        int count = 0;\n",
    "        int start = Math.max(firstPeak+1, (N - lastPeak));\n",
    "        \n",
    "        for (int i = start; i < N; i++) {\n",
    "            if (N % i != 0) continue;\n",
    "            count = 1;\n",
    "            int curPeak = peaks[i-1];\n",
    "\n",
    "            int next = i + i;\n",
    "            while (next != N) {\n",
    "                int nextPeak = peaks[next-1];\n",
    "                if (nextPeak == curPeak) break;\n",
    "                curPeak = nextPeak;\n",
    "                count++;\n",
    "                next = next + i;\n",
    "            }\n",
    "            \n",
    "\n",
    "            if (next == N) return count+1;\n",
    "        }\n",
    "        \n",
    "        return count;\n",
    "    }\n",
    "}"
   ]
  },
  {
   "cell_type": "code",
   "execution_count": 383,
   "metadata": {},
   "outputs": [
    {
     "data": {
      "text/plain": [
       "3"
      ]
     },
     "execution_count": 383,
     "metadata": {},
     "output_type": "execute_result"
    }
   ],
   "source": [
    "new Peaks().solution(new int[]{0, 1, 0, 0, 1, 0, 0, 1, 0});"
   ]
  },
  {
   "cell_type": "code",
   "execution_count": 385,
   "metadata": {},
   "outputs": [],
   "source": [
    "import java.util.Random;\n",
    "Random random=new Random();"
   ]
  },
  {
   "cell_type": "code",
   "execution_count": 386,
   "metadata": {},
   "outputs": [
    {
     "data": {
      "text/plain": [
       "15"
      ]
     },
     "execution_count": 386,
     "metadata": {},
     "output_type": "execute_result"
    }
   ],
   "source": [
    "random.nextInt(100);"
   ]
  },
  {
   "cell_type": "code",
   "execution_count": 388,
   "metadata": {},
   "outputs": [],
   "source": [
    "int N=10;"
   ]
  },
  {
   "cell_type": "code",
   "execution_count": 389,
   "metadata": {},
   "outputs": [
    {
     "data": {
      "text/plain": [
       "-10"
      ]
     },
     "execution_count": 389,
     "metadata": {},
     "output_type": "execute_result"
    }
   ],
   "source": [
    "-N;"
   ]
  },
  {
   "cell_type": "code",
   "execution_count": 412,
   "metadata": {},
   "outputs": [],
   "source": [
    "class TimeMaker {\n",
    "\n",
    "    static int makeSecond(int[] nums, int firstIndex) {\n",
    "        int count = 0;\n",
    "        int last = -1;\n",
    "        for (int i = 0; i < 4; i++) {\n",
    "            if (i != firstIndex && nums[i] < 4) {\n",
    "                if (last == nums[i]) continue;\n",
    "                last=nums[i];\n",
    "                count = count + makeThird(nums, firstIndex, i);\n",
    "            }\n",
    "        }\n",
    "        return count;\n",
    "    }\n",
    "\n",
    "    static int makeFirst(int[] nums) {\n",
    "        int count = 0;\n",
    "        int last = -1;\n",
    "        for (int i = 0; i < 4; i++) {\n",
    "            if (nums[i] < 3) {\n",
    "                if (last == nums[i]) continue;\n",
    "                last=nums[i];\n",
    "                count = count + makeSecond(nums, i);\n",
    "            }\n",
    "        }\n",
    "        return count;\n",
    "    }\n",
    "\n",
    "    static int makeThird(int[] nums, int firstIndex, int secondIndex) {\n",
    "        int count = 0;\n",
    "        int last = -1;\n",
    "        for (int i = 0; i < 4; i++) {\n",
    "            if (i != firstIndex && i != secondIndex && nums[i] < 6) {\n",
    "                if (last == nums[i]) continue;\n",
    "                last=nums[i];\n",
    "                count = count + 1;\n",
    "            }\n",
    "        }\n",
    "        return count;\n",
    "    }\n",
    "\n",
    "    public int solution(int A, int B, int C, int D) {\n",
    "        int[] nums=new int[]{A, B, C, D};\n",
    "        java.util.Arrays.sort(nums);\n",
    "        return makeFirst(nums);\n",
    "    }\n",
    "}"
   ]
  },
  {
   "cell_type": "code",
   "execution_count": 414,
   "metadata": {},
   "outputs": [
    {
     "data": {
      "text/plain": [
       "3"
      ]
     },
     "execution_count": 414,
     "metadata": {},
     "output_type": "execute_result"
    }
   ],
   "source": [
    "new TimeMaker().solution(1,2,1,9);"
   ]
  },
  {
   "cell_type": "code",
   "execution_count": 402,
   "metadata": {},
   "outputs": [
    {
     "data": {
      "text/plain": [
       "4"
      ]
     },
     "execution_count": 402,
     "metadata": {},
     "output_type": "execute_result"
    }
   ],
   "source": [
    "2*2*1"
   ]
  },
  {
   "cell_type": "code",
   "execution_count": null,
   "metadata": {},
   "outputs": [],
   "source": [
    "11:29,12:19,21:19"
   ]
  }
 ],
 "metadata": {
  "kernelspec": {
   "display_name": "Java",
   "language": "java",
   "name": "java"
  },
  "language_info": {
   "codemirror_mode": "java",
   "file_extension": ".jshell",
   "mimetype": "text/x-java-source",
   "name": "Java",
   "pygments_lexer": "java",
   "version": "11.0.7+10"
  }
 },
 "nbformat": 4,
 "nbformat_minor": 4
}
